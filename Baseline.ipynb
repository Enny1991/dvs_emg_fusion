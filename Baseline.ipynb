{
 "cells": [
  {
   "cell_type": "code",
   "execution_count": 1,
   "metadata": {},
   "outputs": [
    {
     "name": "stderr",
     "output_type": "stream",
     "text": [
      "Using TensorFlow backend.\n",
      "/Users/enea/anaconda3/envs/dvsemg/lib/python3.6/site-packages/tensorflow/python/framework/dtypes.py:526: FutureWarning: Passing (type, 1) or '1type' as a synonym of type is deprecated; in a future version of numpy, it will be understood as (type, (1,)) / '(1,)type'.\n",
      "  _np_qint8 = np.dtype([(\"qint8\", np.int8, 1)])\n",
      "/Users/enea/anaconda3/envs/dvsemg/lib/python3.6/site-packages/tensorflow/python/framework/dtypes.py:527: FutureWarning: Passing (type, 1) or '1type' as a synonym of type is deprecated; in a future version of numpy, it will be understood as (type, (1,)) / '(1,)type'.\n",
      "  _np_quint8 = np.dtype([(\"quint8\", np.uint8, 1)])\n",
      "/Users/enea/anaconda3/envs/dvsemg/lib/python3.6/site-packages/tensorflow/python/framework/dtypes.py:528: FutureWarning: Passing (type, 1) or '1type' as a synonym of type is deprecated; in a future version of numpy, it will be understood as (type, (1,)) / '(1,)type'.\n",
      "  _np_qint16 = np.dtype([(\"qint16\", np.int16, 1)])\n",
      "/Users/enea/anaconda3/envs/dvsemg/lib/python3.6/site-packages/tensorflow/python/framework/dtypes.py:529: FutureWarning: Passing (type, 1) or '1type' as a synonym of type is deprecated; in a future version of numpy, it will be understood as (type, (1,)) / '(1,)type'.\n",
      "  _np_quint16 = np.dtype([(\"quint16\", np.uint16, 1)])\n",
      "/Users/enea/anaconda3/envs/dvsemg/lib/python3.6/site-packages/tensorflow/python/framework/dtypes.py:530: FutureWarning: Passing (type, 1) or '1type' as a synonym of type is deprecated; in a future version of numpy, it will be understood as (type, (1,)) / '(1,)type'.\n",
      "  _np_qint32 = np.dtype([(\"qint32\", np.int32, 1)])\n",
      "/Users/enea/anaconda3/envs/dvsemg/lib/python3.6/site-packages/tensorflow/python/framework/dtypes.py:535: FutureWarning: Passing (type, 1) or '1type' as a synonym of type is deprecated; in a future version of numpy, it will be understood as (type, (1,)) / '(1,)type'.\n",
      "  np_resource = np.dtype([(\"resource\", np.ubyte, 1)])\n"
     ]
    }
   ],
   "source": [
    "import os\n",
    "import keras\n",
    "import numpy as np\n",
    "import matplotlib.pyplot as plt\n",
    "import tensorflow as tf\n",
    "from keras.models import Sequential, load_model, Model\n",
    "from keras.layers import Dense, Dropout, Flatten, Add, Concatenate, Conv1D, Conv2D, MaxPooling1D, MaxPooling2D\n",
    "from keras import backend as K\n",
    "from scipy.signal import stft\n",
    "from sklearn import preprocessing\n",
    "from sklearn.model_selection import train_test_split, StratifiedKFold\n",
    "from sklearn.metrics import classification_report, confusion_matrix\n",
    "import pickle as pkl\n",
    "\n",
    "from utils import Person, analyze\n",
    "\n",
    "os.environ[\"CUDA_VISIBLE_DEVICES\"] = \"\""
   ]
  },
  {
   "cell_type": "code",
   "execution_count": 2,
   "metadata": {},
   "outputs": [],
   "source": [
    "classes = classes = ['pinky', 'elle', 'yo', 'index', 'thumb']\n",
    "classes_dict = {'pinky': 0, 'elle': 1, 'yo': 2, 'index': 3, 'thumb': 4}\n",
    "classes_inv = {v: k for k, v in classes_dict.items()}"
   ]
  },
  {
   "cell_type": "markdown",
   "metadata": {},
   "source": [
    "# LOAD IMAGES"
   ]
  },
  {
   "cell_type": "code",
   "execution_count": 3,
   "metadata": {},
   "outputs": [
    {
     "name": "stdout",
     "output_type": "stream",
     "text": [
      "47745\n",
      "(47745,)\n",
      "[1, 2, 3, 4, 5, 6, 7, 8, 9, 10, 11, 12, 13, 14, 15, 16, 17, 18, 19, 20, 21]\n",
      "[1, 2, 3]\n",
      "[0, 1, 2, 3, 4]\n",
      "[0, 1, 2, 3, 4, 5, 6, 7, 8, 9, 10, 11, 12, 13, 14, 15, 16, 17, 18, 19, 20, 21, 22, 23, 24, 25, 26, 27, 28, 29, 30, 31, 32, 33, 34, 35, 36]\n"
     ]
    }
   ],
   "source": [
    "# Load image dataset\n",
    "crop_path = './dump/img_cropped/'\n",
    "all_frames = [i for i in sorted(os.listdir(crop_path)) if 'tiff' in i]\n",
    "Y_IMG = np.array([classes_dict[i.split('_')[2]] for i in sorted(os.listdir(crop_path)) if 'tiff' in i])\n",
    "SUB_IMG = np.array([int(i[7:9]) for i in sorted(os.listdir(crop_path)) if 'tiff' in i])\n",
    "SES_IMG = np.array([int(i[17:19]) for i in sorted(os.listdir(crop_path)) if 'tiff' in i])\n",
    "TRI_IMG = np.array([int(i.split('_')[3]) for i in sorted(os.listdir(crop_path)) if 'tiff' in i])\n",
    "IDX_IMG = np.array([int(i.split('_')[4].split('.')[0]) for i in sorted(os.listdir(crop_path)) if 'tiff' in i])\n",
    "\n",
    "IDX_IMG = np.array(IDX_IMG)\n",
    "Y_IMG = np.array(Y_IMG)\n",
    "SUB_IMG = np.array(SUB_IMG)\n",
    "SES_IMG = np.array(SES_IMG)\n",
    "TRI_IMG = np.array(TRI_IMG)\n",
    "\n",
    "print(len(IDX_IMG))\n",
    "print(Y_IMG.shape)\n",
    "print(list(set(SUB_IMG)))\n",
    "print(list(set(SES_IMG)))\n",
    "print(list(set(TRI_IMG)))\n",
    "print(list(set(IDX_IMG)))"
   ]
  },
  {
   "cell_type": "code",
   "execution_count": 4,
   "metadata": {},
   "outputs": [
    {
     "name": "stdout",
     "output_type": "stream",
     "text": [
      "(47745, 40, 40, 3)\n"
     ]
    }
   ],
   "source": [
    "X_IMG = np.array([plt.imread(crop_path + f)[::-1] for f in all_frames])\n",
    "X_IMG = np.array(X_IMG)\n",
    "print(X_IMG.shape)"
   ]
  },
  {
   "cell_type": "code",
   "execution_count": 6,
   "metadata": {},
   "outputs": [],
   "source": [
    "# CORRECTION DICTIONARY for synchronization and allignment \n",
    "corrections = {}\n",
    "corrections['subject01_session01'] = {'fs':200, 'tg':'base', 'shift':1.0, 'cx':-15, 'cy':20}\n",
    "corrections['subject01_session02'] = {'fs':200, 'tg':'base', 'shift':1.0, 'cx':-10, 'cy':0}\n",
    "corrections['subject01_session03'] = {'fs':200, 'tg':'base', 'shift':1.0, 'cx':0, 'cy':10}\n",
    "corrections['subject02_session01'] = {'fs':200, 'tg':'base', 'shift':1.0, 'cx':-40, 'cy':5}\n",
    "corrections['subject02_session02'] = {'fs':200, 'tg':'base', 'shift':1.0, 'cx':-10, 'cy':5}\n",
    "\n",
    "corrections['subject03_session01'] = {'fs':200, 'tg':'base', 'shift':1.0, 'cx':0, 'cy':-10}\n",
    "corrections['subject03_session02'] = {'fs':200, 'tg':'base', 'shift':1.0, 'cx':0, 'cy':-10}\n",
    "corrections['subject03_session03'] = {'fs':200, 'tg':'base', 'shift':1.0, 'cx':0, 'cy':-10}\n",
    "corrections['subject04_session01'] = {'fs':200, 'tg':'base', 'shift':1.0, 'cx':-30, 'cy':-15}\n",
    "corrections['subject04_session02'] = {'fs':200, 'tg':'base', 'shift':1.0, 'cx':-50, 'cy':-10}\n",
    "corrections['subject04_session03'] = {'fs':200, 'tg':'base', 'shift':1.0, 'cx':-40, 'cy':-10}\n",
    "corrections['subject05_session01'] = {'fs':200, 'tg':'base', 'shift':1.0, 'cx':-10, 'cy':-10}\n",
    "corrections['subject05_session02'] = {'fs':200, 'tg':'base', 'shift':1.0, 'cx':10, 'cy':-10}\n",
    "corrections['subject05_session03'] = {'fs':200, 'tg':'base', 'shift':1.0, 'cx':-10, 'cy':-10}\n",
    "corrections['subject06_session01'] = {'fs':200, 'tg':'base', 'shift':1.0, 'cx':-10, 'cy':0}\n",
    "corrections['subject06_session02'] = {'fs':197, 'tg':'base', 'shift':1.0, 'cx':5, 'cy':-5}\n",
    "corrections['subject06_session03'] = {'fs':200, 'tg':'base', 'shift':1.0, 'cx':0, 'cy':0}\n",
    "corrections['subject07_session01'] = {'fs':200, 'tg':'base', 'shift':1.0, 'cx':0, 'cy':-10}\n",
    "corrections['subject07_session02'] = {'fs':200, 'tg':'base', 'shift':1.0, 'cx':0, 'cy':0}\n",
    "corrections['subject07_session03'] = {'fs':200, 'tg':'base', 'shift':1.0, 'cx':-10, 'cy':0}\n",
    "corrections['subject08_session01'] = {'fs':200, 'tg':'base', 'shift':1.0, 'cx':-20, 'cy':10}\n",
    "corrections['subject08_session02'] = {'fs':200, 'tg':'base', 'shift':1.0, 'cx':0, 'cy':0}\n",
    "corrections['subject08_session03'] = {'fs':200, 'tg':'base', 'shift':1.0, 'cx':20, 'cy':0}\n",
    "corrections['subject09_session01'] = {'fs':200, 'tg':'base', 'shift':1.0, 'cx':0, 'cy':-10}\n",
    "\n",
    "corrections['subject09_session02'] = {'fs':185, 'tg':'base', 'shift':2.0, 'cx':-10, 'cy':-10}\n",
    "\n",
    "corrections['subject09_session03'] = {'fs':200, 'tg':'base', 'shift':1.0, 'cx':-10, 'cy':-20}\n",
    "corrections['subject10_session01'] = {'fs':200, 'tg':'base', 'shift':1.0, 'cx':0, 'cy':-10}\n",
    "corrections['subject10_session02'] = {'fs':200, 'tg':'base', 'shift':1.0, 'cx':0, 'cy':-10}\n",
    "corrections['subject10_session03'] = {'fs':200, 'tg':'base', 'shift':1.0, 'cx':0, 'cy':-10}\n",
    "\n",
    "corrections['subject11_session01'] = {'fs':174, 'tg':'base', 'shift':-4, 'cx':-5, 'cy':10}\n",
    "corrections['subject11_session02'] = {'fs':169, 'tg':'base', 'shift':-3, 'cx':-5, 'cy':15}\n",
    "corrections['subject11_session03'] = {'fs':173, 'tg':'base', 'shift':-3.5, 'cx':-8, 'cy':10}\n",
    "corrections['subject12_session01'] = {'fs':200, 'tg':'base', 'shift':-2, 'cx':0, 'cy':10}\n",
    "corrections['subject12_session02'] = {'fs':200, 'tg':'base', 'shift':-2.5, 'cx':0, 'cy':10}\n",
    "corrections['subject12_session03'] = {'fs':200, 'tg':'base', 'shift':-2.5, 'cx':0, 'cy':10}\n",
    "corrections['subject13_session01'] = {'fs':200, 'tg':'single', 'shift':-0.5, 'cx':-10, 'cy':20}\n",
    "corrections['subject13_session02'] = {'fs':200, 'tg':'base', 'shift':-3, 'cx':5, 'cy':15}\n",
    "corrections['subject13_session03'] = {'fs':200, 'tg':'base', 'shift':0, 'cx':0, 'cy':10}\n",
    "corrections['subject14_session01'] = {'fs':200, 'tg':'base', 'shift':-2, 'cx':0, 'cy':5}\n",
    "corrections['subject14_session02'] = {'fs':200, 'tg':'base', 'shift':-2.5, 'cx':0, 'cy':5}\n",
    "corrections['subject14_session03'] = {'fs':200, 'tg':'base', 'shift':-2.5, 'cx':0, 'cy':8}\n",
    "corrections['subject15_session01'] = {'fs':200, 'tg':'base', 'shift':-2.5, 'cx':-5, 'cy':15}\n",
    "corrections['subject15_session02'] = {'fs':200, 'tg':'base', 'shift':-1.5, 'cx':0, 'cy':15}\n",
    "corrections['subject15_session03'] = {'fs':200, 'tg':'base', 'shift':-2.5, 'cx':-5, 'cy':15}\n",
    "corrections['subject16_session01'] = {'fs':200, 'tg':'base', 'shift':-1, 'cx':-10, 'cy':15}\n",
    "corrections['subject16_session02'] = {'fs':200, 'tg':'base', 'shift':-2, 'cx':-15, 'cy':15}\n",
    "corrections['subject16_session03'] = {'fs':200, 'tg':'base', 'shift':-2, 'cx':-20, 'cy':15}\n",
    "\n",
    "corrections['subject17_session01'] = {'fs':200, 'tg':'base', 'shift':-3, 'cx':7, 'cy':10}\n",
    "corrections['subject17_session02'] = {'fs':200, 'tg':'first', 'shift':-3, 'cx':10, 'cy':10}\n",
    "corrections['subject17_session03'] = {'fs':200, 'tg':'base', 'shift':-3.2, 'cx':15, 'cy':15}\n",
    "corrections['subject18_session01'] = {'fs':200, 'tg':'base', 'shift':-4.3, 'cx':-3, 'cy':-5}\n",
    "corrections['subject18_session02'] = {'fs':200, 'tg':'base', 'shift':-3.2, 'cx':-10, 'cy':-15}\n",
    "corrections['subject18_session03'] = {'fs':200, 'tg':'base', 'shift':-4.3, 'cx':-10, 'cy':-5}\n",
    "corrections['subject19_session01'] = {'fs':167, 'tg':'base', 'shift':-2, 'cx':0, 'cy':20}\n",
    "corrections['subject19_session02'] = {'fs':173, 'tg':'base', 'shift':-2.5, 'cx':-3, 'cy':15}\n",
    "corrections['subject19_session03'] = {'fs':200, 'tg':'base', 'shift':-2, 'cx':-3, 'cy':15}\n",
    "corrections['subject20_session01'] = {'fs':174, 'tg':'base', 'shift':-2.6, 'cx':-10, 'cy':10}\n",
    "corrections['subject20_session02'] = {'fs':176, 'tg':'base', 'shift':-3.5, 'cx':-5, 'cy':0}\n",
    "corrections['subject20_session03'] = {'fs':174, 'tg':'base', 'shift':-4, 'cx':-5, 'cy':5}\n",
    "\n",
    "corrections['subject21_session01'] = {'fs':200, 'tg':'base', 'shift':-3, 'cx':0, 'cy':0}\n",
    "corrections['subject21_session02'] = {'fs':200, 'tg':'base', 'shift':-3.5, 'cx':2, 'cy':-2}\n",
    "corrections['subject21_session03'] = {'fs':200, 'tg':'base', 'shift':-2.8, 'cx':5, 'cy':5}\n",
    "\n",
    "corrections['subject02_session03'] = {'fs':200, 'tg':'base', 'shift':1.0, 'cx':-3, 'cy':0}"
   ]
  },
  {
   "cell_type": "markdown",
   "metadata": {},
   "source": [
    "# LOAD EMG"
   ]
  },
  {
   "cell_type": "code",
   "execution_count": 7,
   "metadata": {},
   "outputs": [
    {
     "name": "stdout",
     "output_type": "stream",
     "text": [
      "Data Loaded! 63 Sessions\n",
      "Done sorting trials!\n"
     ]
    }
   ],
   "source": [
    "data_dir = '/Users/enea/Dropbox/Capocaccia2019_Gesture_DVS_Myo/Dataset/EMG/'\n",
    "VERBOSE = False\n",
    "subjects = {}\n",
    "names = sorted([name for name in os.listdir(data_dir) if \"emg\" in name])\n",
    "for name in names:\n",
    "    _emg = np.load(data_dir + '{}'.format(name)).astype('float32')\n",
    "    _ann = np.concatenate([np.array(['none']), np.load(data_dir + '{}'.format(name.replace(\"emg\",\"ann\")))[:-1]])\n",
    "\n",
    "    subjects[\"_\".join(name.split(\"_\")[:2])] = Person(name.split(\"_\")[0], _emg, _ann, classes=classes)\n",
    "\n",
    "    if VERBOSE:\n",
    "        print(\"Loaded {}: EMG = [{}] // ANN = [{}]\".format(\"_\".join(name.split(\"_\")[:2]), _emg.shape, len(_ann)))\n",
    "print(\"Data Loaded! {} Sessions\".format(len(subjects.keys())))\n",
    "\n",
    "# separates data in correct trial type\n",
    "for name, data in subjects.items():\n",
    "    for _class in classes:\n",
    "        _annotation = np.float32(data.ann == _class)\n",
    "        derivative = np.diff(_annotation)/1.0\n",
    "        begins = np.where(derivative == 1)[0]\n",
    "        ends = np.where(derivative == -1)[0]\n",
    "        for b, e in zip(begins, ends):\n",
    "            _trials = data.emg[b:e]\n",
    "            data.trials[_class].append(_trials)\n",
    "            data.begs[_class].append(b)\n",
    "            data.ends[_class].append(e)\n",
    "print(\"Done sorting trials!\")"
   ]
  },
  {
   "cell_type": "code",
   "execution_count": 8,
   "metadata": {},
   "outputs": [
    {
     "name": "stdout",
     "output_type": "stream",
     "text": [
      "1575\n",
      "1575\n",
      "[0, 1, 2, 3, 4]\n",
      "[1, 2, 3, 4, 5, 6, 7, 8, 9, 10, 11, 12, 13, 14, 15, 16, 17, 18, 19, 20, 21]\n",
      "[1, 2, 3]\n",
      "[0, 1, 2, 3, 4]\n"
     ]
    }
   ],
   "source": [
    "X_EMG = []\n",
    "Y_EMG = []\n",
    "SUB_EMG = []\n",
    "SES_EMG = []\n",
    "TRI_EMG = []\n",
    "\n",
    "for name, data in subjects.items():\n",
    "    for gesture in classes:\n",
    "        for trial in range(5):\n",
    "            X_EMG.append(data.trials[gesture][trial])\n",
    "            Y_EMG.append(classes_dict[gesture])\n",
    "            SUB_EMG.append(int(name[7:9]))\n",
    "            SES_EMG.append(int(name[17:19]))\n",
    "            TRI_EMG.append(trial)\n",
    "\n",
    "X_EMG = np.array(X_EMG)\n",
    "Y_EMG = np.array(Y_EMG)\n",
    "SUB_EMG = np.array(SUB_EMG)\n",
    "SES_EMG = np.array(SES_EMG)\n",
    "TRI_EMG = np.array(TRI_EMG)\n",
    "print(len(X_EMG))\n",
    "print(len(Y_EMG))\n",
    "print(list(set(Y_EMG)))\n",
    "print(list(set(SUB_EMG)))\n",
    "print(list(set(SES_EMG)))\n",
    "print(list(set(TRI_EMG)))"
   ]
  },
  {
   "cell_type": "code",
   "execution_count": 32,
   "metadata": {},
   "outputs": [
    {
     "name": "stdout",
     "output_type": "stream",
     "text": [
      "(28782, 16)\n",
      "(28782, 40, 40, 3)\n",
      "(28782,)\n",
      "(28782,)\n",
      "(28782,)\n"
     ]
    }
   ],
   "source": [
    "frame_len = 0.2\n",
    "frame_step = 0.1\n",
    "F_SUB = []\n",
    "F_SESS = []\n",
    "F_Y = []\n",
    "F_IMG = []\n",
    "F_EMG = []\n",
    "\n",
    "# CREATE ACTUAL DATASET\n",
    "for subject in range(1, 22):\n",
    "    for session in range(1, 4):\n",
    "        for gesture in range(5):\n",
    "            for trial in range(5):\n",
    "                \n",
    "                fs = corrections['subject{:02}_session0{}'.format(subject, session)]['fs']\n",
    "                \n",
    "                idx_emg = np.logical_and.reduce([SUB_EMG == subject, \n",
    "                                                 SES_EMG == session, \n",
    "                                                 TRI_EMG == trial, \n",
    "                                                 Y_EMG == gesture])\n",
    "                idx_img = np.logical_and.reduce([SUB_IMG == subject, \n",
    "                                                 SES_IMG == session, \n",
    "                                                 TRI_IMG == trial, \n",
    "                                                 Y_IMG == gesture])\n",
    "                \n",
    "                e = X_EMG[idx_emg][0]\n",
    "                f = X_IMG[idx_img]\n",
    "                \n",
    "                mav = analyze(e, frame_len=0.2, frame_step=0.1, feat='MAV', preprocess=False)\n",
    "                rms = analyze(e, frame_len=0.2, frame_step=0.1, feat='RMS', preprocess=False)\n",
    "                a = np.concatenate([mav, rms], 1)\n",
    "                \n",
    "                mapping = np.arange(len(a)) * len(f) // len(a)\n",
    "                F_EMG.append(a)\n",
    "                F_IMG.append(np.stack(f[mapping]))\n",
    "                F_SUB.append(np.ones((len(mapping))) * subject)\n",
    "                F_SESS.append(np.ones((len(mapping))) * session)\n",
    "                F_Y.append(np.ones((len(mapping))) * gesture)\n",
    "\n",
    "F_EMG = np.vstack(F_EMG)\n",
    "F_IMG = np.vstack(F_IMG)\n",
    "F_SUB = np.hstack(F_SUB)\n",
    "F_SESS = np.hstack(F_SESS)\n",
    "F_Y = np.hstack(F_Y)\n",
    "\n",
    "print(F_EMG.shape)\n",
    "print(F_IMG.shape)\n",
    "print(F_SUB.shape)\n",
    "print(F_SESS.shape)\n",
    "print(F_Y.shape)"
   ]
  },
  {
   "cell_type": "code",
   "execution_count": null,
   "metadata": {},
   "outputs": [],
   "source": [
    "print(subject)\n",
    "print(session)\n",
    "print(gesture)\n",
    "print(trial)"
   ]
  },
  {
   "cell_type": "code",
   "execution_count": 141,
   "metadata": {},
   "outputs": [
    {
     "name": "stdout",
     "output_type": "stream",
     "text": [
      "(19220, 16)\n",
      "(19220, 40, 40, 3)\n",
      "(19220, 5)\n",
      "(9562, 16)\n",
      "(9562, 40, 40, 3)\n",
      "(9562, 5)\n"
     ]
    }
   ],
   "source": [
    "test_ses = 1\n",
    "\n",
    "x_emg_train = F_EMG[F_SESS != test_ses].astype('float32')\n",
    "x_emg_test = F_EMG[F_SESS == test_ses].astype('float32')\n",
    "\n",
    "x_img_train = F_IMG[F_SESS != test_ses].astype('float32')\n",
    "x_img_test = F_IMG[F_SESS == test_ses].astype('float32')\n",
    "\n",
    "y_train = F_Y[F_SESS != test_ses]\n",
    "y_test = F_Y[F_SESS == test_ses]\n",
    "\n",
    "y_train = keras.utils.to_categorical(y_train, 5)\n",
    "y_test = keras.utils.to_categorical(y_test, 5)\n",
    "\n",
    "print(x_emg_train.shape)\n",
    "print(x_img_train.shape)\n",
    "print(y_train.shape)\n",
    "print(x_emg_test.shape)\n",
    "print(x_img_test.shape)\n",
    "print(y_test.shape)"
   ]
  },
  {
   "cell_type": "code",
   "execution_count": 142,
   "metadata": {},
   "outputs": [
    {
     "name": "stdout",
     "output_type": "stream",
     "text": [
      "img_min =  0.0\n",
      "img_max =  253.0\n",
      "img_mean =  0.5144386\n",
      "img_std =  0.26730623841285805\n",
      "emg_min =  0.0\n",
      "emg_max =  87.84133\n",
      "emg_mean =  0.073996924\n",
      "emg_std =  0.11713933944702248\n"
     ]
    }
   ],
   "source": [
    "##### img preprocessing\n",
    "# normalize\n",
    "data_max = np.max(x_img_train)\n",
    "data_min = np.min(x_img_train)\n",
    "for i in range(len(x_img_train)):\n",
    "    x_img_train[i] = (x_img_train[i] - data_min) / (data_max - data_min)\n",
    "for i in range(len(x_img_test)):\n",
    "    x_img_test[i] = (x_img_test[i] - data_min) / (data_max - data_min)\n",
    "print(\"img_min = \", data_min)\n",
    "print(\"img_max = \", data_max)\n",
    "\n",
    "# standardize\n",
    "data_mean = np.mean(x_img_train)\n",
    "data_std = np.std(x_img_train) + 1e-15\n",
    "x_img_train -= data_mean\n",
    "x_img_train /= data_std\n",
    "x_img_test -= data_mean\n",
    "x_img_test /= data_std\n",
    "print(\"img_mean = \", data_mean)\n",
    "print(\"img_std = \", data_std)\n",
    "\n",
    "# emg preprocessing\n",
    "# normalize\n",
    "data_max = np.max(x_emg_train)\n",
    "data_min = np.min(x_emg_train)\n",
    "for i in range(len(x_emg_train)):\n",
    "    x_emg_train[i] = (x_emg_train[i] - data_min) / (data_max - data_min)\n",
    "for i in range(len(x_emg_test)):\n",
    "    x_emg_test[i] = (x_emg_test[i] - data_min) / (data_max - data_min)\n",
    "print(\"emg_min = \", data_min)\n",
    "print(\"emg_max = \", data_max)\n",
    "\n",
    "# standardize\n",
    "data_mean = np.mean(x_emg_train)\n",
    "data_std = np.std(x_emg_train) + 1e-15\n",
    "x_emg_train -= data_mean\n",
    "x_emg_train /= data_std\n",
    "x_emg_test -= data_mean\n",
    "x_emg_test /= data_std\n",
    "print(\"emg_mean = \", data_mean)\n",
    "print(\"emg_std = \", data_std)"
   ]
  },
  {
   "cell_type": "markdown",
   "metadata": {},
   "source": [
    "# BASELINE CNN (SUMIT)"
   ]
  },
  {
   "cell_type": "code",
   "execution_count": 124,
   "metadata": {},
   "outputs": [
    {
     "name": "stdout",
     "output_type": "stream",
     "text": [
      "Model: \"sequential_21\"\n",
      "_________________________________________________________________\n",
      "Layer (type)                 Output Shape              Param #   \n",
      "=================================================================\n",
      "conv2d_16 (Conv2D)           (None, 38, 38, 8)         224       \n",
      "_________________________________________________________________\n",
      "max_pooling2d_11 (MaxPooling (None, 19, 19, 8)         0         \n",
      "_________________________________________________________________\n",
      "conv2d_17 (Conv2D)           (None, 17, 17, 16)        1168      \n",
      "_________________________________________________________________\n",
      "max_pooling2d_12 (MaxPooling (None, 8, 8, 16)          0         \n",
      "_________________________________________________________________\n",
      "conv2d_18 (Conv2D)           (None, 6, 6, 32)          4640      \n",
      "_________________________________________________________________\n",
      "dropout_18 (Dropout)         (None, 6, 6, 32)          0         \n",
      "_________________________________________________________________\n",
      "flatten_6 (Flatten)          (None, 1152)              0         \n",
      "_________________________________________________________________\n",
      "dense_56 (Dense)             (None, 512)               590336    \n",
      "_________________________________________________________________\n",
      "dropout_19 (Dropout)         (None, 512)               0         \n",
      "_________________________________________________________________\n",
      "dense_57 (Dense)             (None, 5)                 2565      \n",
      "=================================================================\n",
      "Total params: 598,933\n",
      "Trainable params: 598,933\n",
      "Non-trainable params: 0\n",
      "_________________________________________________________________\n"
     ]
    }
   ],
   "source": [
    "# cnn for img\n",
    "img_input_shape_s = (40, 40, 3)\n",
    "num_classes = 5\n",
    "# create the cnn model\n",
    "model_img_s = Sequential()\n",
    "model_img_s.add(Conv2D(filters=8, kernel_size=(3, 3), activation='relu', input_shape=img_input_shape_s))\n",
    "model_img_s.add(MaxPooling2D(pool_size=(2, 2)))\n",
    "model_img_s.add(Conv2D(filters=16, kernel_size=(3, 3), activation='relu'))\n",
    "model_img_s.add(MaxPooling2D(pool_size=(2, 2)))\n",
    "model_img_s.add(Conv2D(filters=32, kernel_size=(3, 3), activation='relu'))\n",
    "model_img_s.add(Dropout(0.25))\n",
    "model_img_s.add(Flatten())\n",
    "model_img_s.add(Dense(512, activation='relu'))\n",
    "model_img_s.add(Dropout(0.5))\n",
    "model_img_s.add(Dense(num_classes, activation='softmax'))\n",
    "                    \n",
    "model_img_s.summary()"
   ]
  },
  {
   "cell_type": "code",
   "execution_count": 125,
   "metadata": {
    "scrolled": true
   },
   "outputs": [
    {
     "name": "stdout",
     "output_type": "stream",
     "text": [
      "Train on 19220 samples, validate on 9562 samples\n",
      "Epoch 1/10\n",
      "19220/19220 [==============================] - 25s 1ms/step - loss: 0.5347 - accuracy: 0.7971 - val_loss: 0.2184 - val_accuracy: 0.9450\n",
      "Epoch 2/10\n",
      "19220/19220 [==============================] - 23s 1ms/step - loss: 0.1312 - accuracy: 0.9614 - val_loss: 0.2017 - val_accuracy: 0.9531\n",
      "Epoch 3/10\n",
      "19220/19220 [==============================] - 24s 1ms/step - loss: 0.0895 - accuracy: 0.9726 - val_loss: 0.2123 - val_accuracy: 0.9527\n",
      "Epoch 4/10\n",
      "19220/19220 [==============================] - 24s 1ms/step - loss: 0.0701 - accuracy: 0.9788 - val_loss: 0.2253 - val_accuracy: 0.9547\n",
      "Epoch 5/10\n",
      "19220/19220 [==============================] - 22s 1ms/step - loss: 0.0562 - accuracy: 0.9824 - val_loss: 0.3402 - val_accuracy: 0.9282\n",
      "Epoch 6/10\n",
      "19220/19220 [==============================] - 22s 1ms/step - loss: 0.0524 - accuracy: 0.9845 - val_loss: 0.2128 - val_accuracy: 0.9562\n",
      "Epoch 7/10\n",
      "19220/19220 [==============================] - 21s 1ms/step - loss: 0.0463 - accuracy: 0.9854 - val_loss: 0.2130 - val_accuracy: 0.9564\n",
      "Epoch 8/10\n",
      "19220/19220 [==============================] - 20s 1ms/step - loss: 0.0373 - accuracy: 0.9889 - val_loss: 0.2307 - val_accuracy: 0.9557\n",
      "Epoch 9/10\n",
      "19220/19220 [==============================] - 21s 1ms/step - loss: 0.0368 - accuracy: 0.9888 - val_loss: 0.2224 - val_accuracy: 0.9573\n",
      "Epoch 10/10\n",
      "19220/19220 [==============================] - 20s 1ms/step - loss: 0.0328 - accuracy: 0.9896 - val_loss: 0.2402 - val_accuracy: 0.9560\n",
      "9562/9562 [==============================] - 3s 277us/step\n",
      "accuracy: 95.60%\n"
     ]
    }
   ],
   "source": [
    "# compile model\n",
    "model_img_s.compile(loss=keras.losses.categorical_crossentropy,\n",
    "            optimizer=keras.optimizers.Adadelta(),\n",
    "            metrics=['accuracy'])\n",
    "\n",
    "# fit the model\n",
    "model_img_s.fit(x_img_train, y_train,\n",
    "        batch_size=32,\n",
    "        epochs=10,\n",
    "        verbose=1,\n",
    "        validation_data=(x_img_test, y_test))\n",
    "\n",
    "# evaluate the model\n",
    "scores = model_img_s.evaluate(x_img_test, y_test, verbose=1)\n",
    "print(\"%s: %.2f%%\" % (model_img_s.metrics_names[1], scores[1]*100))"
   ]
  },
  {
   "cell_type": "code",
   "execution_count": 126,
   "metadata": {},
   "outputs": [
    {
     "name": "stdout",
     "output_type": "stream",
     "text": [
      "Model: \"sequential_22\"\n",
      "_________________________________________________________________\n",
      "Layer (type)                 Output Shape              Param #   \n",
      "=================================================================\n",
      "dense_58 (Dense)             (None, 128)               2176      \n",
      "_________________________________________________________________\n",
      "dropout_20 (Dropout)         (None, 128)               0         \n",
      "_________________________________________________________________\n",
      "dense_59 (Dense)             (None, 128)               16512     \n",
      "_________________________________________________________________\n",
      "dense_60 (Dense)             (None, 5)                 645       \n",
      "=================================================================\n",
      "Total params: 19,333\n",
      "Trainable params: 19,333\n",
      "Non-trainable params: 0\n",
      "_________________________________________________________________\n"
     ]
    }
   ],
   "source": [
    "# mlp for emg\n",
    "img_input_shape_s = (16,)\n",
    "# create the cnn model\n",
    "model_emg_s = Sequential()\n",
    "model_emg_s.add(Dense(128, activation='relu', input_shape=img_input_shape_s))\n",
    "model_emg_s.add(Dropout(0.5))\n",
    "model_emg_s.add(Dense(128, activation='relu'))\n",
    "model_emg_s.add(Dense(num_classes, activation='softmax'))\n",
    "\n",
    "model_emg_s.summary()"
   ]
  },
  {
   "cell_type": "code",
   "execution_count": 127,
   "metadata": {
    "scrolled": true
   },
   "outputs": [
    {
     "name": "stdout",
     "output_type": "stream",
     "text": [
      "Train on 19220 samples, validate on 9562 samples\n",
      "Epoch 1/30\n",
      "19220/19220 [==============================] - 2s 111us/step - loss: 1.1700 - accuracy: 0.5024 - val_loss: 1.0373 - val_accuracy: 0.5854\n",
      "Epoch 2/30\n",
      "19220/19220 [==============================] - 2s 80us/step - loss: 0.9496 - accuracy: 0.6002 - val_loss: 0.9986 - val_accuracy: 0.6171\n",
      "Epoch 3/30\n",
      "19220/19220 [==============================] - 2s 80us/step - loss: 0.8842 - accuracy: 0.6315 - val_loss: 0.9952 - val_accuracy: 0.6108\n",
      "Epoch 4/30\n",
      "19220/19220 [==============================] - 2s 84us/step - loss: 0.8471 - accuracy: 0.6473 - val_loss: 0.9850 - val_accuracy: 0.6190\n",
      "Epoch 5/30\n",
      "19220/19220 [==============================] - 2s 80us/step - loss: 0.8159 - accuracy: 0.6642 - val_loss: 0.9839 - val_accuracy: 0.6112\n",
      "Epoch 6/30\n",
      "19220/19220 [==============================] - 2s 89us/step - loss: 0.7934 - accuracy: 0.6732 - val_loss: 0.9833 - val_accuracy: 0.6222\n",
      "Epoch 7/30\n",
      "19220/19220 [==============================] - 2s 89us/step - loss: 0.7791 - accuracy: 0.6799 - val_loss: 0.9498 - val_accuracy: 0.6239\n",
      "Epoch 8/30\n",
      "19220/19220 [==============================] - 2s 88us/step - loss: 0.7605 - accuracy: 0.6913 - val_loss: 0.9746 - val_accuracy: 0.6173\n",
      "Epoch 9/30\n",
      "19220/19220 [==============================] - 2s 89us/step - loss: 0.7501 - accuracy: 0.6909 - val_loss: 0.9739 - val_accuracy: 0.6178\n",
      "Epoch 10/30\n",
      "19220/19220 [==============================] - 2s 88us/step - loss: 0.7369 - accuracy: 0.6944 - val_loss: 0.9690 - val_accuracy: 0.6180\n",
      "Epoch 11/30\n",
      "19220/19220 [==============================] - 2s 79us/step - loss: 0.7318 - accuracy: 0.7004 - val_loss: 0.9699 - val_accuracy: 0.6232\n",
      "Epoch 12/30\n",
      "19220/19220 [==============================] - 2s 79us/step - loss: 0.7154 - accuracy: 0.7061 - val_loss: 0.9488 - val_accuracy: 0.6353\n",
      "Epoch 13/30\n",
      "19220/19220 [==============================] - 2s 80us/step - loss: 0.7080 - accuracy: 0.7081 - val_loss: 0.9739 - val_accuracy: 0.6211\n",
      "Epoch 14/30\n",
      "19220/19220 [==============================] - 2s 80us/step - loss: 0.7019 - accuracy: 0.7160 - val_loss: 0.9922 - val_accuracy: 0.6241\n",
      "Epoch 15/30\n",
      "19220/19220 [==============================] - 2s 82us/step - loss: 0.6941 - accuracy: 0.7181 - val_loss: 0.9343 - val_accuracy: 0.6399\n",
      "Epoch 16/30\n",
      "19220/19220 [==============================] - 2s 80us/step - loss: 0.6874 - accuracy: 0.7195 - val_loss: 0.9565 - val_accuracy: 0.6276\n",
      "Epoch 17/30\n",
      "19220/19220 [==============================] - 2s 79us/step - loss: 0.6756 - accuracy: 0.7226 - val_loss: 0.9675 - val_accuracy: 0.6262\n",
      "Epoch 18/30\n",
      "19220/19220 [==============================] - 2s 79us/step - loss: 0.6808 - accuracy: 0.7214 - val_loss: 0.9450 - val_accuracy: 0.6324\n",
      "Epoch 19/30\n",
      "19220/19220 [==============================] - 2s 80us/step - loss: 0.6621 - accuracy: 0.7323 - val_loss: 0.9307 - val_accuracy: 0.6407\n",
      "Epoch 20/30\n",
      "19220/19220 [==============================] - 2s 80us/step - loss: 0.6572 - accuracy: 0.7316 - val_loss: 0.9389 - val_accuracy: 0.6442\n",
      "Epoch 21/30\n",
      "19220/19220 [==============================] - 2s 80us/step - loss: 0.6625 - accuracy: 0.7307 - val_loss: 0.9440 - val_accuracy: 0.6397\n",
      "Epoch 22/30\n",
      "19220/19220 [==============================] - 2s 81us/step - loss: 0.6525 - accuracy: 0.7317 - val_loss: 0.9699 - val_accuracy: 0.6292\n",
      "Epoch 23/30\n",
      "19220/19220 [==============================] - 2s 82us/step - loss: 0.6438 - accuracy: 0.7406 - val_loss: 0.9410 - val_accuracy: 0.6466\n",
      "Epoch 24/30\n",
      "19220/19220 [==============================] - 2s 79us/step - loss: 0.6475 - accuracy: 0.7371 - val_loss: 0.9323 - val_accuracy: 0.6486\n",
      "Epoch 25/30\n",
      "19220/19220 [==============================] - 2s 80us/step - loss: 0.6383 - accuracy: 0.7406 - val_loss: 0.9198 - val_accuracy: 0.6528\n",
      "Epoch 26/30\n",
      "19220/19220 [==============================] - 2s 80us/step - loss: 0.6362 - accuracy: 0.7414 - val_loss: 0.9451 - val_accuracy: 0.6403\n",
      "Epoch 27/30\n",
      "19220/19220 [==============================] - 2s 79us/step - loss: 0.6354 - accuracy: 0.7424 - val_loss: 0.9589 - val_accuracy: 0.6348\n",
      "Epoch 28/30\n",
      "19220/19220 [==============================] - 2s 80us/step - loss: 0.6232 - accuracy: 0.7488 - val_loss: 0.9702 - val_accuracy: 0.6435\n",
      "Epoch 29/30\n",
      "19220/19220 [==============================] - 2s 79us/step - loss: 0.6220 - accuracy: 0.7469 - val_loss: 0.9521 - val_accuracy: 0.6413\n",
      "Epoch 30/30\n",
      "19220/19220 [==============================] - 2s 79us/step - loss: 0.6162 - accuracy: 0.7511 - val_loss: 0.9743 - val_accuracy: 0.6348\n",
      "accuracy: 63.48%\n"
     ]
    }
   ],
   "source": [
    "# compile model\n",
    "model_emg_s.compile(loss=keras.losses.categorical_crossentropy,\n",
    "            optimizer=keras.optimizers.Adam(),\n",
    "            metrics=['accuracy'])\n",
    "\n",
    "# fit the model\n",
    "model_emg_s.fit(x_emg_train, y_train,\n",
    "        batch_size=32,\n",
    "        epochs=30,\n",
    "        verbose=1,\n",
    "        validation_data=(x_emg_test, y_test))\n",
    "\n",
    "# evaluate the model\n",
    "scores = model_emg_s.evaluate(x_emg_test, y_test, verbose=0)\n",
    "print(\"%s: %.2f%%\" % (model_emg_s.metrics_names[1], scores[1]*100))"
   ]
  },
  {
   "cell_type": "code",
   "execution_count": 128,
   "metadata": {},
   "outputs": [
    {
     "name": "stdout",
     "output_type": "stream",
     "text": [
      "Model: \"model_9\"\n",
      "__________________________________________________________________________________________________\n",
      "Layer (type)                    Output Shape         Param #     Connected to                     \n",
      "==================================================================================================\n",
      "conv2d_16_input (InputLayer)    (None, 40, 40, 3)    0                                            \n",
      "__________________________________________________________________________________________________\n",
      "conv2d_16 (Conv2D)              (None, 38, 38, 8)    224         conv2d_16_input[0][0]            \n",
      "__________________________________________________________________________________________________\n",
      "max_pooling2d_11 (MaxPooling2D) (None, 19, 19, 8)    0           conv2d_16[0][0]                  \n",
      "__________________________________________________________________________________________________\n",
      "conv2d_17 (Conv2D)              (None, 17, 17, 16)   1168        max_pooling2d_11[0][0]           \n",
      "__________________________________________________________________________________________________\n",
      "max_pooling2d_12 (MaxPooling2D) (None, 8, 8, 16)     0           conv2d_17[0][0]                  \n",
      "__________________________________________________________________________________________________\n",
      "conv2d_18 (Conv2D)              (None, 6, 6, 32)     4640        max_pooling2d_12[0][0]           \n",
      "__________________________________________________________________________________________________\n",
      "dropout_18 (Dropout)            (None, 6, 6, 32)     0           conv2d_18[0][0]                  \n",
      "__________________________________________________________________________________________________\n",
      "dense_58_input (InputLayer)     (None, 16)           0                                            \n",
      "__________________________________________________________________________________________________\n",
      "flatten_6 (Flatten)             (None, 1152)         0           dropout_18[0][0]                 \n",
      "__________________________________________________________________________________________________\n",
      "dense_58 (Dense)                (None, 128)          2176        dense_58_input[0][0]             \n",
      "__________________________________________________________________________________________________\n",
      "dense_56 (Dense)                (None, 512)          590336      flatten_6[0][0]                  \n",
      "__________________________________________________________________________________________________\n",
      "dropout_20 (Dropout)            (None, 128)          0           dense_58[0][0]                   \n",
      "__________________________________________________________________________________________________\n",
      "dropout_19 (Dropout)            (None, 512)          0           dense_56[0][0]                   \n",
      "__________________________________________________________________________________________________\n",
      "dense_59 (Dense)                (None, 128)          16512       dropout_20[0][0]                 \n",
      "__________________________________________________________________________________________________\n",
      "dense_57 (Dense)                (None, 5)            2565        dropout_19[0][0]                 \n",
      "__________________________________________________________________________________________________\n",
      "dense_60 (Dense)                (None, 5)            645         dense_59[0][0]                   \n",
      "__________________________________________________________________________________________________\n",
      "concatenate_9 (Concatenate)     (None, 10)           0           dense_57[0][0]                   \n",
      "                                                                 dense_60[0][0]                   \n",
      "__________________________________________________________________________________________________\n",
      "dense_61 (Dense)                (None, 5)            55          concatenate_9[0][0]              \n",
      "==================================================================================================\n",
      "Total params: 618,321\n",
      "Trainable params: 618,321\n",
      "Non-trainable params: 0\n",
      "__________________________________________________________________________________________________\n"
     ]
    }
   ],
   "source": [
    "mergedOut_s = Concatenate()([model_img_s.output, model_emg_s.output])\n",
    "mergedOut_s = Dense(5, activation='softmax')(mergedOut_s)\n",
    "model_fus_s = Model([model_img_s.input, model_emg_s.input], mergedOut_s)\n",
    "model_fus_s.summary()"
   ]
  },
  {
   "cell_type": "code",
   "execution_count": 129,
   "metadata": {},
   "outputs": [
    {
     "name": "stdout",
     "output_type": "stream",
     "text": [
      "<keras.engine.input_layer.InputLayer object at 0x147e0f898> False\n",
      "<keras.layers.convolutional.Conv2D object at 0x147e0f6a0> False\n",
      "<keras.layers.pooling.MaxPooling2D object at 0x147e0f710> False\n",
      "<keras.layers.convolutional.Conv2D object at 0x147e0f908> False\n",
      "<keras.layers.pooling.MaxPooling2D object at 0x1197ef908> False\n",
      "<keras.layers.convolutional.Conv2D object at 0x119801668> False\n",
      "<keras.layers.core.Dropout object at 0x119801748> False\n",
      "<keras.engine.input_layer.InputLayer object at 0x152023358> False\n",
      "<keras.layers.core.Flatten object at 0x119820e80> False\n",
      "<keras.layers.core.Dense object at 0x13ab44160> False\n",
      "<keras.layers.core.Dense object at 0x119867588> False\n",
      "<keras.layers.core.Dropout object at 0x147de79b0> False\n",
      "<keras.layers.core.Dropout object at 0x119867470> False\n",
      "<keras.layers.core.Dense object at 0x152023ac8> False\n",
      "<keras.layers.core.Dense object at 0x1198b9e80> False\n",
      "<keras.layers.core.Dense object at 0x152023128> False\n",
      "<keras.layers.merge.Concatenate object at 0x14a282048> False\n",
      "<keras.layers.core.Dense object at 0x15205ec88> True\n"
     ]
    }
   ],
   "source": [
    "# freeze the layers except the last dense\n",
    "for layer in model_fus_s.layers[:len(model_fus_s.layers)-1]:\n",
    "    layer.trainable = False\n",
    "\n",
    "# check the status of the layers\n",
    "for layer in model_fus_s.layers:\n",
    "    print(layer, layer.trainable)"
   ]
  },
  {
   "cell_type": "code",
   "execution_count": 130,
   "metadata": {},
   "outputs": [
    {
     "name": "stdout",
     "output_type": "stream",
     "text": [
      "Train on 19220 samples, validate on 9562 samples\n",
      "Epoch 1/10\n",
      "19220/19220 [==============================] - 9s 457us/step - loss: 0.8500 - accuracy: 0.8236 - val_loss: 0.4919 - val_accuracy: 0.9569\n",
      "Epoch 2/10\n",
      "19220/19220 [==============================] - 8s 432us/step - loss: 0.2336 - accuracy: 0.9922 - val_loss: 0.2285 - val_accuracy: 0.9624\n",
      "Epoch 3/10\n",
      "19220/19220 [==============================] - 8s 436us/step - loss: 0.0878 - accuracy: 0.9934 - val_loss: 0.1636 - val_accuracy: 0.9612\n",
      "Epoch 4/10\n",
      "19220/19220 [==============================] - 8s 431us/step - loss: 0.0468 - accuracy: 0.9944 - val_loss: 0.1499 - val_accuracy: 0.9601\n",
      "Epoch 5/10\n",
      "19220/19220 [==============================] - 8s 433us/step - loss: 0.0358 - accuracy: 0.9931 - val_loss: 0.1478 - val_accuracy: 0.9601\n",
      "Epoch 6/10\n",
      "19220/19220 [==============================] - 8s 436us/step - loss: 0.0309 - accuracy: 0.9930 - val_loss: 0.1488 - val_accuracy: 0.9598\n",
      "Epoch 7/10\n",
      "19220/19220 [==============================] - 8s 430us/step - loss: 0.0273 - accuracy: 0.9928 - val_loss: 0.1507 - val_accuracy: 0.9598\n",
      "Epoch 8/10\n",
      "19220/19220 [==============================] - 8s 432us/step - loss: 0.0274 - accuracy: 0.9932 - val_loss: 0.1517 - val_accuracy: 0.9599\n",
      "Epoch 9/10\n",
      "19220/19220 [==============================] - 8s 431us/step - loss: 0.0268 - accuracy: 0.9930 - val_loss: 0.1525 - val_accuracy: 0.9596\n",
      "Epoch 10/10\n",
      "19220/19220 [==============================] - 9s 455us/step - loss: 0.0230 - accuracy: 0.9938 - val_loss: 0.1543 - val_accuracy: 0.9596\n",
      "9562/9562 [==============================] - 3s 289us/step\n",
      "accuracy: 95.96%\n"
     ]
    }
   ],
   "source": [
    "# compile model\n",
    "model_fus_s.compile(loss=keras.losses.categorical_crossentropy,\n",
    "            optimizer=keras.optimizers.Adadelta(),\n",
    "            metrics=['accuracy'])\n",
    "\n",
    "# fit the model\n",
    "model_fus_s.fit([x_img_train, x_emg_train], y_train,\n",
    "        batch_size=32,\n",
    "        epochs=10,\n",
    "        verbose=1,\n",
    "        validation_data=([x_img_test, x_emg_test], y_test))\n",
    "\n",
    "# evaluate the model\n",
    "scores = model_fus_s.evaluate([x_img_test, x_emg_test], y_test, verbose=1)\n",
    "print(\"%s: %.2f%%\" % (model_fus_s.metrics_names[1], scores[1]*100))"
   ]
  },
  {
   "cell_type": "code",
   "execution_count": 131,
   "metadata": {},
   "outputs": [],
   "source": [
    "model_emg_s.save('model_emg_s.h5') \n",
    "model_img_s.save('model_img_s.h5') \n",
    "model_fus_s.save('model_fus_s.h5') "
   ]
  },
  {
   "cell_type": "markdown",
   "metadata": {},
   "source": [
    "# BASELINE MLP (CHARLOTTE) [C]"
   ]
  },
  {
   "cell_type": "code",
   "execution_count": 167,
   "metadata": {},
   "outputs": [
    {
     "name": "stdout",
     "output_type": "stream",
     "text": [
      "(19220, 40, 40)\n",
      "(9562, 40, 40)\n"
     ]
    },
    {
     "data": {
      "image/png": "[encoded data removed]",
      "text/plain": [
       "<Figure size 432x288 with 4 Axes>"
      ]
     },
     "metadata": {
      "needs_background": "light"
     },
     "output_type": "display_data"
    }
   ],
   "source": [
    "x_img_train_c = np.mean(x_img_train, -1)#.reshape(-1, 1600)\n",
    "x_img_test_c = np.mean(x_img_test, -1)#.reshape(-1, 1600)\n",
    "print(x_img_train_c.shape)\n",
    "print(x_img_test_c.shape)\n",
    "\n",
    "a = x_img_train_c[:, ::2, ::2]\n",
    "b = x_img_train_c[:, 1::2, ::2]\n",
    "c = x_img_train_c[:, ::2, 1::2]\n",
    "d = x_img_train_c[:, 1::2, 1::2]\n",
    "idx = 1101\n",
    "fig, ax = plt.subplots(2, 2)\n",
    "ax[0][0].imshow(a[idx], aspect='auto')\n",
    "ax[0][1].imshow(b[idx], aspect='auto')\n",
    "ax[1][0].imshow(c[idx], aspect='auto')\n",
    "ax[1][1].imshow(d[idx], aspect='auto')\n",
    "\n",
    "\n",
    "concat_inp_train = [a.reshape(-1, 400), b.reshape(-1, 400), c.reshape(-1, 400), d.reshape(-1, 400)]\n",
    "\n",
    "a = x_img_test_c[:, ::2, ::2]\n",
    "b = x_img_test_c[:, 1::2, ::2]\n",
    "c = x_img_test_c[:, ::2, 1::2]\n",
    "d = x_img_test_c[:, 1::2, 1::2]\n",
    "\n",
    "concat_inp_test = [a.reshape(-1, 400), b.reshape(-1, 400), c.reshape(-1, 400), d.reshape(-1, 400)]"
   ]
  },
  {
   "cell_type": "code",
   "execution_count": 165,
   "metadata": {},
   "outputs": [
    {
     "name": "stdout",
     "output_type": "stream",
     "text": [
      "Model: \"sequential_31\"\n",
      "_________________________________________________________________\n",
      "Layer (type)                 Output Shape              Param #   \n",
      "=================================================================\n",
      "dense_77 (Dense)             (None, 210)               84210     \n",
      "_________________________________________________________________\n",
      "dropout_27 (Dropout)         (None, 210)               0         \n",
      "_________________________________________________________________\n",
      "dense_78 (Dense)             (None, 5)                 1055      \n",
      "=================================================================\n",
      "Total params: 85,265\n",
      "Trainable params: 85,265\n",
      "Non-trainable params: 0\n",
      "_________________________________________________________________\n",
      "None\n",
      "Model: \"sequential_32\"\n",
      "_________________________________________________________________\n",
      "Layer (type)                 Output Shape              Param #   \n",
      "=================================================================\n",
      "dense_79 (Dense)             (None, 210)               84210     \n",
      "_________________________________________________________________\n",
      "dropout_28 (Dropout)         (None, 210)               0         \n",
      "_________________________________________________________________\n",
      "dense_80 (Dense)             (None, 5)                 1055      \n",
      "=================================================================\n",
      "Total params: 85,265\n",
      "Trainable params: 85,265\n",
      "Non-trainable params: 0\n",
      "_________________________________________________________________\n",
      "None\n",
      "Model: \"sequential_33\"\n",
      "_________________________________________________________________\n",
      "Layer (type)                 Output Shape              Param #   \n",
      "=================================================================\n",
      "dense_81 (Dense)             (None, 210)               84210     \n",
      "_________________________________________________________________\n",
      "dropout_29 (Dropout)         (None, 210)               0         \n",
      "_________________________________________________________________\n",
      "dense_82 (Dense)             (None, 5)                 1055      \n",
      "=================================================================\n",
      "Total params: 85,265\n",
      "Trainable params: 85,265\n",
      "Non-trainable params: 0\n",
      "_________________________________________________________________\n",
      "None\n",
      "Model: \"sequential_34\"\n",
      "_________________________________________________________________\n",
      "Layer (type)                 Output Shape              Param #   \n",
      "=================================================================\n",
      "dense_83 (Dense)             (None, 210)               84210     \n",
      "_________________________________________________________________\n",
      "dropout_30 (Dropout)         (None, 210)               0         \n",
      "_________________________________________________________________\n",
      "dense_84 (Dense)             (None, 5)                 1055      \n",
      "=================================================================\n",
      "Total params: 85,265\n",
      "Trainable params: 85,265\n",
      "Non-trainable params: 0\n",
      "_________________________________________________________________\n",
      "None\n"
     ]
    }
   ],
   "source": [
    "# mlp for img\n",
    "img_input_shape_c = (400,)\n",
    "models = []\n",
    "\n",
    "for i in range(4):\n",
    "    # create the mlp model\n",
    "    model_img_c = Sequential()\n",
    "    model_img_c.add(Dense(210, activation='relu', input_shape=img_input_shape_c))\n",
    "    model_img_c.add(Dropout(0.3))\n",
    "    model_img_c.add(Dense(5, activation='softmax'))\n",
    "    models.append(model_img_c)\n",
    "    print(model_img_c.summary())"
   ]
  },
  {
   "cell_type": "code",
   "execution_count": 168,
   "metadata": {},
   "outputs": [
    {
     "name": "stdout",
     "output_type": "stream",
     "text": [
      "Train on 19220 samples, validate on 9562 samples\n",
      "Epoch 1/10\n",
      "19220/19220 [==============================] - 4s 184us/step - loss: 1.2429 - accuracy: 0.4911 - val_loss: 1.0940 - val_accuracy: 0.5564\n",
      "Epoch 2/10\n",
      "19220/19220 [==============================] - 3s 142us/step - loss: 0.8499 - accuracy: 0.6856 - val_loss: 0.8219 - val_accuracy: 0.7199\n",
      "Epoch 3/10\n",
      "19220/19220 [==============================] - 3s 160us/step - loss: 0.6482 - accuracy: 0.7712 - val_loss: 0.7400 - val_accuracy: 0.7345\n",
      "Epoch 4/10\n",
      "19220/19220 [==============================] - 3s 145us/step - loss: 0.5235 - accuracy: 0.8256 - val_loss: 0.7274 - val_accuracy: 0.7461\n",
      "Epoch 5/10\n",
      "19220/19220 [==============================] - 2s 128us/step - loss: 0.4431 - accuracy: 0.8562 - val_loss: 0.6192 - val_accuracy: 0.7862\n",
      "Epoch 6/10\n",
      "19220/19220 [==============================] - 3s 140us/step - loss: 0.3829 - accuracy: 0.8795 - val_loss: 0.7101 - val_accuracy: 0.7608\n",
      "Epoch 7/10\n",
      "19220/19220 [==============================] - 3s 132us/step - loss: 0.3422 - accuracy: 0.8925 - val_loss: 0.6631 - val_accuracy: 0.7907\n",
      "Epoch 8/10\n",
      "19220/19220 [==============================] - 3s 135us/step - loss: 0.3020 - accuracy: 0.9086 - val_loss: 0.6343 - val_accuracy: 0.8043\n",
      "Epoch 9/10\n",
      "19220/19220 [==============================] - 3s 150us/step - loss: 0.2810 - accuracy: 0.9160 - val_loss: 0.6258 - val_accuracy: 0.8034\n",
      "Epoch 10/10\n",
      "19220/19220 [==============================] - 3s 143us/step - loss: 0.2527 - accuracy: 0.9243 - val_loss: 0.6425 - val_accuracy: 0.7995\n",
      "9562/9562 [==============================] - 0s 48us/step\n",
      "accuracy: 79.95%\n",
      "Train on 19220 samples, validate on 9562 samples\n",
      "Epoch 1/10\n",
      "19220/19220 [==============================] - 3s 168us/step - loss: 1.2340 - accuracy: 0.4959 - val_loss: 1.1721 - val_accuracy: 0.5307\n",
      "Epoch 2/10\n",
      "19220/19220 [==============================] - 3s 136us/step - loss: 0.8454 - accuracy: 0.6912 - val_loss: 0.8843 - val_accuracy: 0.6796\n",
      "Epoch 3/10\n",
      "19220/19220 [==============================] - 3s 136us/step - loss: 0.6507 - accuracy: 0.7704 - val_loss: 0.8647 - val_accuracy: 0.6803\n",
      "Epoch 4/10\n",
      "19220/19220 [==============================] - 3s 150us/step - loss: 0.5368 - accuracy: 0.8176 - val_loss: 0.7955 - val_accuracy: 0.7344\n",
      "Epoch 5/10\n",
      "19220/19220 [==============================] - 3s 137us/step - loss: 0.4526 - accuracy: 0.8542 - val_loss: 0.7401 - val_accuracy: 0.7457\n",
      "Epoch 6/10\n",
      "19220/19220 [==============================] - 3s 137us/step - loss: 0.3919 - accuracy: 0.8748 - val_loss: 0.6934 - val_accuracy: 0.7702\n",
      "Epoch 7/10\n",
      "19220/19220 [==============================] - 3s 143us/step - loss: 0.3483 - accuracy: 0.8900 - val_loss: 0.7031 - val_accuracy: 0.7677\n",
      "Epoch 8/10\n",
      "19220/19220 [==============================] - 3s 150us/step - loss: 0.3149 - accuracy: 0.9037 - val_loss: 0.7684 - val_accuracy: 0.7592\n",
      "Epoch 9/10\n",
      "19220/19220 [==============================] - 3s 136us/step - loss: 0.2806 - accuracy: 0.9151 - val_loss: 0.6981 - val_accuracy: 0.7873\n",
      "Epoch 10/10\n",
      "19220/19220 [==============================] - 3s 138us/step - loss: 0.2608 - accuracy: 0.9200 - val_loss: 0.7008 - val_accuracy: 0.7879\n",
      "9562/9562 [==============================] - 1s 55us/step\n",
      "accuracy: 78.79%\n",
      "Train on 19220 samples, validate on 9562 samples\n",
      "Epoch 1/10\n",
      "19220/19220 [==============================] - 5s 254us/step - loss: 1.2278 - accuracy: 0.5039 - val_loss: 1.0643 - val_accuracy: 0.6019\n",
      "Epoch 2/10\n",
      "19220/19220 [==============================] - 5s 265us/step - loss: 0.8423 - accuracy: 0.6907 - val_loss: 0.8500 - val_accuracy: 0.6946\n",
      "Epoch 3/10\n",
      "19220/19220 [==============================] - 4s 212us/step - loss: 0.6480 - accuracy: 0.7750 - val_loss: 0.7075 - val_accuracy: 0.7610\n",
      "Epoch 4/10\n",
      "19220/19220 [==============================] - 3s 179us/step - loss: 0.5298 - accuracy: 0.8175 - val_loss: 0.6741 - val_accuracy: 0.7587\n",
      "Epoch 5/10\n",
      "19220/19220 [==============================] - 3s 169us/step - loss: 0.4475 - accuracy: 0.8530 - val_loss: 0.6310 - val_accuracy: 0.7887\n",
      "Epoch 6/10\n",
      "19220/19220 [==============================] - 3s 176us/step - loss: 0.3894 - accuracy: 0.8755 - val_loss: 0.6971 - val_accuracy: 0.7692\n",
      "Epoch 7/10\n",
      "19220/19220 [==============================] - 4s 192us/step - loss: 0.3444 - accuracy: 0.8932 - val_loss: 0.6331 - val_accuracy: 0.7944\n",
      "Epoch 8/10\n",
      "19220/19220 [==============================] - 4s 199us/step - loss: 0.3088 - accuracy: 0.9047 - val_loss: 0.6105 - val_accuracy: 0.8084\n",
      "Epoch 9/10\n",
      "19220/19220 [==============================] - 3s 145us/step - loss: 0.2812 - accuracy: 0.9136 - val_loss: 0.6111 - val_accuracy: 0.8102\n",
      "Epoch 10/10\n",
      "19220/19220 [==============================] - 3s 149us/step - loss: 0.2586 - accuracy: 0.9235 - val_loss: 0.5782 - val_accuracy: 0.8227\n",
      "9562/9562 [==============================] - 1s 59us/step\n",
      "accuracy: 82.27%\n",
      "Train on 19220 samples, validate on 9562 samples\n",
      "Epoch 1/10\n",
      "19220/19220 [==============================] - 3s 163us/step - loss: 1.2401 - accuracy: 0.4991 - val_loss: 1.1450 - val_accuracy: 0.5627\n",
      "Epoch 2/10\n",
      "19220/19220 [==============================] - 2s 112us/step - loss: 0.8563 - accuracy: 0.6828 - val_loss: 0.9305 - val_accuracy: 0.6711\n",
      "Epoch 3/10\n",
      "19220/19220 [==============================] - 4s 192us/step - loss: 0.6570 - accuracy: 0.7677 - val_loss: 0.7649 - val_accuracy: 0.7296\n",
      "Epoch 4/10\n",
      "19220/19220 [==============================] - 3s 176us/step - loss: 0.5370 - accuracy: 0.8200 - val_loss: 0.7651 - val_accuracy: 0.7315\n",
      "Epoch 5/10\n",
      "19220/19220 [==============================] - 3s 171us/step - loss: 0.4520 - accuracy: 0.8505 - val_loss: 0.7884 - val_accuracy: 0.7393\n",
      "Epoch 6/10\n",
      "19220/19220 [==============================] - 3s 179us/step - loss: 0.3930 - accuracy: 0.8747 - val_loss: 0.7120 - val_accuracy: 0.7708\n",
      "Epoch 7/10\n",
      "19220/19220 [==============================] - 2s 129us/step - loss: 0.3488 - accuracy: 0.8929 - val_loss: 0.7046 - val_accuracy: 0.7738\n",
      "Epoch 8/10\n",
      "19220/19220 [==============================] - 3s 152us/step - loss: 0.3143 - accuracy: 0.9038 - val_loss: 0.6588 - val_accuracy: 0.7827\n",
      "Epoch 9/10\n",
      "19220/19220 [==============================] - 3s 146us/step - loss: 0.2789 - accuracy: 0.9156 - val_loss: 0.7032 - val_accuracy: 0.7825\n",
      "Epoch 10/10\n",
      "19220/19220 [==============================] - 3s 142us/step - loss: 0.2612 - accuracy: 0.9204 - val_loss: 0.7158 - val_accuracy: 0.7939\n",
      "9562/9562 [==============================] - 1s 55us/step\n",
      "accuracy: 79.39%\n"
     ]
    }
   ],
   "source": [
    "# compile model\n",
    "for inp_train, inp_test, mdl in zip(concat_inp_train, concat_inp_test, models):\n",
    "    mdl.compile(loss=keras.losses.categorical_crossentropy,\n",
    "                optimizer=keras.optimizers.Adadelta(),\n",
    "                metrics=['accuracy'])\n",
    "\n",
    "    # fit the model\n",
    "    mdl.fit(inp, y_train,\n",
    "            batch_size=32,\n",
    "            epochs=10,\n",
    "            verbose=1,\n",
    "            validation_data=(inp_test, y_test))\n",
    "\n",
    "    # evaluate the model\n",
    "    scores = mdl.evaluate(inp_test, y_test, verbose=1)\n",
    "    print(\"%s: %.2f%%\" % (mdl.metrics_names[1], scores[1]*100))"
   ]
  },
  {
   "cell_type": "code",
   "execution_count": 171,
   "metadata": {},
   "outputs": [
    {
     "name": "stdout",
     "output_type": "stream",
     "text": [
      "(9562, 5)\n",
      "(9562, 5)\n",
      "(9562, 5)\n",
      "(9562, 5)\n"
     ]
    }
   ],
   "source": [
    "all_scores = []\n",
    "for inp_test, mdl in zip(concat_inp_test, models):\n",
    "    # evaluate the model\n",
    "    all_scores.append(mdl.predict(inp_test))\n",
    "    print(all_scores[-1].shape)\n",
    "    "
   ]
  },
  {
   "cell_type": "code",
   "execution_count": 177,
   "metadata": {},
   "outputs": [
    {
     "name": "stdout",
     "output_type": "stream",
     "text": [
      "(9562,)\n",
      "(9562,)\n",
      "82.26312486927421\n"
     ]
    }
   ],
   "source": [
    "final = np.argmax(sum(all_scores), -1)\n",
    "print(final.shape)\n",
    "final_y = np.argmax(y_test, -1)\n",
    "print(final_y.shape)\n",
    "\n",
    "print(np.sum(np.float32((final_y - final) == 0)) / len(final_y) * 100)"
   ]
  },
  {
   "cell_type": "code",
   "execution_count": 185,
   "metadata": {},
   "outputs": [
    {
     "name": "stdout",
     "output_type": "stream",
     "text": [
      "[0 0 0 ... 4 4 4]\n",
      "(9562,)\n",
      "82.1167119849404\n"
     ]
    }
   ],
   "source": [
    "from scipy.stats import mode\n",
    "final = [np.argmax(x, -1) for x in all_scores]\n",
    "final = mode(np.array(final), 0)[0][0]\n",
    "print(final)\n",
    "final_y = np.argmax(y_test, -1)\n",
    "print(final_y.shape)\n",
    "\n",
    "print(np.sum(np.float32((final_y - final) == 0)) / len(final_y) * 100)"
   ]
  },
  {
   "cell_type": "code",
   "execution_count": 169,
   "metadata": {},
   "outputs": [
    {
     "name": "stdout",
     "output_type": "stream",
     "text": [
      "Model: \"sequential_35\"\n",
      "_________________________________________________________________\n",
      "Layer (type)                 Output Shape              Param #   \n",
      "=================================================================\n",
      "dense_85 (Dense)             (None, 230)               3910      \n",
      "_________________________________________________________________\n",
      "dense_86 (Dense)             (None, 5)                 1155      \n",
      "=================================================================\n",
      "Total params: 5,065\n",
      "Trainable params: 5,065\n",
      "Non-trainable params: 0\n",
      "_________________________________________________________________\n"
     ]
    }
   ],
   "source": [
    "# mlp for emg\n",
    "img_input_shape_c = (16,)\n",
    "# create the cnn model\n",
    "model_emg_c = Sequential()\n",
    "model_emg_c.add(Dense(230, activation='relu', input_shape=img_input_shape_c))\n",
    "model_emg_c.add(Dense(num_classes, activation='softmax'))\n",
    "\n",
    "model_emg_c.summary()"
   ]
  },
  {
   "cell_type": "code",
   "execution_count": 170,
   "metadata": {},
   "outputs": [
    {
     "name": "stdout",
     "output_type": "stream",
     "text": [
      "Train on 19220 samples, validate on 9562 samples\n",
      "Epoch 1/30\n",
      "19220/19220 [==============================] - 2s 117us/step - loss: 1.0877 - accuracy: 0.5579 - val_loss: 1.0541 - val_accuracy: 0.5734\n",
      "Epoch 2/30\n",
      "19220/19220 [==============================] - 2s 82us/step - loss: 0.8938 - accuracy: 0.6338 - val_loss: 1.0165 - val_accuracy: 0.5963\n",
      "Epoch 3/30\n",
      "19220/19220 [==============================] - 2s 82us/step - loss: 0.8309 - accuracy: 0.6608 - val_loss: 0.9876 - val_accuracy: 0.6079\n",
      "Epoch 4/30\n",
      "19220/19220 [==============================] - 2s 81us/step - loss: 0.7874 - accuracy: 0.6798 - val_loss: 0.9872 - val_accuracy: 0.6071\n",
      "Epoch 5/30\n",
      "19220/19220 [==============================] - 2s 99us/step - loss: 0.7552 - accuracy: 0.6952 - val_loss: 1.0048 - val_accuracy: 0.6063\n",
      "Epoch 6/30\n",
      "19220/19220 [==============================] - 2s 83us/step - loss: 0.7293 - accuracy: 0.7037 - val_loss: 0.9943 - val_accuracy: 0.6155\n",
      "Epoch 7/30\n",
      "19220/19220 [==============================] - 2s 93us/step - loss: 0.7074 - accuracy: 0.7165 - val_loss: 1.0172 - val_accuracy: 0.6000\n",
      "Epoch 8/30\n",
      "19220/19220 [==============================] - 2s 96us/step - loss: 0.6895 - accuracy: 0.7236 - val_loss: 0.9865 - val_accuracy: 0.6137\n",
      "Epoch 9/30\n",
      "19220/19220 [==============================] - 2s 83us/step - loss: 0.6748 - accuracy: 0.7308 - val_loss: 0.9836 - val_accuracy: 0.6169\n",
      "Epoch 10/30\n",
      "19220/19220 [==============================] - 2s 83us/step - loss: 0.6604 - accuracy: 0.7366 - val_loss: 0.9916 - val_accuracy: 0.6213\n",
      "Epoch 11/30\n",
      "19220/19220 [==============================] - 2s 95us/step - loss: 0.6488 - accuracy: 0.7431 - val_loss: 0.9743 - val_accuracy: 0.6306\n",
      "Epoch 12/30\n",
      "19220/19220 [==============================] - 2s 82us/step - loss: 0.6391 - accuracy: 0.7430 - val_loss: 0.9856 - val_accuracy: 0.6266\n",
      "Epoch 13/30\n",
      "19220/19220 [==============================] - 2s 97us/step - loss: 0.6291 - accuracy: 0.7525 - val_loss: 0.9804 - val_accuracy: 0.6282\n",
      "Epoch 14/30\n",
      "19220/19220 [==============================] - 2s 83us/step - loss: 0.6213 - accuracy: 0.7527 - val_loss: 0.9807 - val_accuracy: 0.6324\n",
      "Epoch 15/30\n",
      "19220/19220 [==============================] - 2s 96us/step - loss: 0.6135 - accuracy: 0.7565 - val_loss: 0.9756 - val_accuracy: 0.6341\n",
      "Epoch 16/30\n",
      "19220/19220 [==============================] - 2s 84us/step - loss: 0.6058 - accuracy: 0.7616 - val_loss: 0.9854 - val_accuracy: 0.6366\n",
      "Epoch 17/30\n",
      "19220/19220 [==============================] - 2s 82us/step - loss: 0.5991 - accuracy: 0.7626 - val_loss: 0.9980 - val_accuracy: 0.6246\n",
      "Epoch 18/30\n",
      "19220/19220 [==============================] - 2s 85us/step - loss: 0.5919 - accuracy: 0.7648 - val_loss: 1.0372 - val_accuracy: 0.6212\n",
      "Epoch 19/30\n",
      "19220/19220 [==============================] - 2s 84us/step - loss: 0.5856 - accuracy: 0.7715 - val_loss: 1.0263 - val_accuracy: 0.6270\n",
      "Epoch 20/30\n",
      "19220/19220 [==============================] - 2s 93us/step - loss: 0.5816 - accuracy: 0.7708 - val_loss: 1.0075 - val_accuracy: 0.6326\n",
      "Epoch 21/30\n",
      "19220/19220 [==============================] - 2s 86us/step - loss: 0.5738 - accuracy: 0.7735 - val_loss: 1.0180 - val_accuracy: 0.6314\n",
      "Epoch 22/30\n",
      "19220/19220 [==============================] - 3s 133us/step - loss: 0.5680 - accuracy: 0.7752 - val_loss: 1.0005 - val_accuracy: 0.6296\n",
      "Epoch 23/30\n",
      "19220/19220 [==============================] - 3s 162us/step - loss: 0.5649 - accuracy: 0.7789 - val_loss: 1.0055 - val_accuracy: 0.6334\n",
      "Epoch 24/30\n",
      "19220/19220 [==============================] - 2s 120us/step - loss: 0.5604 - accuracy: 0.7773 - val_loss: 1.0214 - val_accuracy: 0.6275\n",
      "Epoch 25/30\n",
      "19220/19220 [==============================] - 2s 114us/step - loss: 0.5558 - accuracy: 0.7789 - val_loss: 0.9941 - val_accuracy: 0.6314\n",
      "Epoch 26/30\n",
      "19220/19220 [==============================] - 2s 89us/step - loss: 0.5496 - accuracy: 0.7849 - val_loss: 1.0130 - val_accuracy: 0.6352\n",
      "Epoch 27/30\n",
      "19220/19220 [==============================] - 2s 92us/step - loss: 0.5453 - accuracy: 0.7845 - val_loss: 1.0437 - val_accuracy: 0.6243\n",
      "Epoch 28/30\n",
      "19220/19220 [==============================] - 2s 98us/step - loss: 0.5409 - accuracy: 0.7833 - val_loss: 1.0213 - val_accuracy: 0.6364\n",
      "Epoch 29/30\n",
      "19220/19220 [==============================] - 2s 89us/step - loss: 0.5382 - accuracy: 0.7899 - val_loss: 1.0419 - val_accuracy: 0.6256\n",
      "Epoch 30/30\n",
      "19220/19220 [==============================] - 2s 84us/step - loss: 0.5341 - accuracy: 0.7878 - val_loss: 1.0444 - val_accuracy: 0.6243\n",
      "accuracy: 62.43%\n"
     ]
    }
   ],
   "source": [
    "# compile model\n",
    "model_emg_c.compile(loss=keras.losses.categorical_crossentropy,\n",
    "            optimizer=keras.optimizers.Adadelta(),\n",
    "            metrics=['accuracy'])\n",
    "\n",
    "# fit the model\n",
    "model_emg_c.fit(x_emg_train, y_train,\n",
    "        batch_size=32,\n",
    "        epochs=30,\n",
    "        verbose=1,\n",
    "        validation_data=(x_emg_test, y_test))\n",
    "\n",
    "# evaluate the model\n",
    "scores = model_emg_c.evaluate(x_emg_test, y_test, verbose=0)\n",
    "print(\"%s: %.2f%%\" % (model_emg_c.metrics_names[1], scores[1]*100))"
   ]
  },
  {
   "cell_type": "code",
   "execution_count": 186,
   "metadata": {},
   "outputs": [
    {
     "name": "stdout",
     "output_type": "stream",
     "text": [
      "Model: \"model_11\"\n",
      "__________________________________________________________________________________________________\n",
      "Layer (type)                    Output Shape         Param #     Connected to                     \n",
      "==================================================================================================\n",
      "dense_77_input (InputLayer)     (None, 400)          0                                            \n",
      "__________________________________________________________________________________________________\n",
      "dense_79_input (InputLayer)     (None, 400)          0                                            \n",
      "__________________________________________________________________________________________________\n",
      "dense_81_input (InputLayer)     (None, 400)          0                                            \n",
      "__________________________________________________________________________________________________\n",
      "dense_83_input (InputLayer)     (None, 400)          0                                            \n",
      "__________________________________________________________________________________________________\n",
      "dense_77 (Dense)                (None, 210)          84210       dense_77_input[0][0]             \n",
      "__________________________________________________________________________________________________\n",
      "dense_79 (Dense)                (None, 210)          84210       dense_79_input[0][0]             \n",
      "__________________________________________________________________________________________________\n",
      "dense_81 (Dense)                (None, 210)          84210       dense_81_input[0][0]             \n",
      "__________________________________________________________________________________________________\n",
      "dense_83 (Dense)                (None, 210)          84210       dense_83_input[0][0]             \n",
      "__________________________________________________________________________________________________\n",
      "dense_85_input (InputLayer)     (None, 16)           0                                            \n",
      "__________________________________________________________________________________________________\n",
      "dropout_27 (Dropout)            (None, 210)          0           dense_77[0][0]                   \n",
      "__________________________________________________________________________________________________\n",
      "dropout_28 (Dropout)            (None, 210)          0           dense_79[0][0]                   \n",
      "__________________________________________________________________________________________________\n",
      "dropout_29 (Dropout)            (None, 210)          0           dense_81[0][0]                   \n",
      "__________________________________________________________________________________________________\n",
      "dropout_30 (Dropout)            (None, 210)          0           dense_83[0][0]                   \n",
      "__________________________________________________________________________________________________\n",
      "dense_85 (Dense)                (None, 230)          3910        dense_85_input[0][0]             \n",
      "__________________________________________________________________________________________________\n",
      "dense_78 (Dense)                (None, 5)            1055        dropout_27[0][0]                 \n",
      "__________________________________________________________________________________________________\n",
      "dense_80 (Dense)                (None, 5)            1055        dropout_28[0][0]                 \n",
      "__________________________________________________________________________________________________\n",
      "dense_82 (Dense)                (None, 5)            1055        dropout_29[0][0]                 \n",
      "__________________________________________________________________________________________________\n",
      "dense_84 (Dense)                (None, 5)            1055        dropout_30[0][0]                 \n",
      "__________________________________________________________________________________________________\n",
      "dense_86 (Dense)                (None, 5)            1155        dense_85[0][0]                   \n",
      "__________________________________________________________________________________________________\n",
      "concatenate_11 (Concatenate)    (None, 25)           0           dense_78[0][0]                   \n",
      "                                                                 dense_80[0][0]                   \n",
      "                                                                 dense_82[0][0]                   \n",
      "                                                                 dense_84[0][0]                   \n",
      "                                                                 dense_86[0][0]                   \n",
      "__________________________________________________________________________________________________\n",
      "dense_87 (Dense)                (None, 5)            130         concatenate_11[0][0]             \n",
      "==================================================================================================\n",
      "Total params: 346,255\n",
      "Trainable params: 346,255\n",
      "Non-trainable params: 0\n",
      "__________________________________________________________________________________________________\n"
     ]
    }
   ],
   "source": [
    "mergedOut_c = Concatenate()([a.output for a in models] + [model_emg_c.output])\n",
    "mergedOut_c = Dense(5, activation='softmax')(mergedOut_c)\n",
    "model_fus_c = Model([a.input for a in models] + [model_emg_c.input], mergedOut_c)\n",
    "model_fus_c.summary()"
   ]
  },
  {
   "cell_type": "code",
   "execution_count": 187,
   "metadata": {},
   "outputs": [
    {
     "name": "stdout",
     "output_type": "stream",
     "text": [
      "<keras.engine.input_layer.InputLayer object at 0x15510a518> False\n",
      "<keras.engine.input_layer.InputLayer object at 0x155364fd0> False\n",
      "<keras.engine.input_layer.InputLayer object at 0x15524f5c0> False\n",
      "<keras.engine.input_layer.InputLayer object at 0x154e14f60> False\n",
      "<keras.layers.core.Dense object at 0x155187080> False\n",
      "<keras.layers.core.Dense object at 0x158f78828> False\n",
      "<keras.layers.core.Dense object at 0x154dbddd8> False\n",
      "<keras.layers.core.Dense object at 0x15527fc88> False\n",
      "<keras.engine.input_layer.InputLayer object at 0x154ba78d0> False\n",
      "<keras.layers.core.Dropout object at 0x15510a780> False\n",
      "<keras.layers.core.Dropout object at 0x1551d04a8> False\n",
      "<keras.layers.core.Dropout object at 0x15524f588> False\n",
      "<keras.layers.core.Dropout object at 0x154d1f438> False\n",
      "<keras.layers.core.Dense object at 0x155187588> False\n",
      "<keras.layers.core.Dense object at 0x15510a400> False\n",
      "<keras.layers.core.Dense object at 0x1551d0ba8> False\n",
      "<keras.layers.core.Dense object at 0x15524fef0> False\n",
      "<keras.layers.core.Dense object at 0x154d1fb38> False\n",
      "<keras.layers.core.Dense object at 0x18d91b6d8> False\n",
      "<keras.layers.merge.Concatenate object at 0x18e5d9080> False\n",
      "<keras.layers.core.Dense object at 0x18e5d9780> True\n"
     ]
    }
   ],
   "source": [
    "# freeze the layers except the last dense\n",
    "for layer in model_fus_c.layers[:len(model_fus_c.layers)-1]:\n",
    "    layer.trainable = False\n",
    "\n",
    "# check the status of the layers\n",
    "for layer in model_fus_c.layers:\n",
    "    print(layer, layer.trainable)"
   ]
  },
  {
   "cell_type": "code",
   "execution_count": 188,
   "metadata": {},
   "outputs": [
    {
     "name": "stdout",
     "output_type": "stream",
     "text": [
      "Train on 19220 samples, validate on 9562 samples\n",
      "Epoch 1/10\n",
      "19220/19220 [==============================] - 3s 170us/step - loss: 0.5284 - accuracy: 0.9101 - val_loss: 0.4378 - val_accuracy: 0.8475\n",
      "Epoch 2/10\n",
      "19220/19220 [==============================] - 2s 127us/step - loss: 0.1395 - accuracy: 0.9700 - val_loss: 0.4125 - val_accuracy: 0.8524\n",
      "Epoch 3/10\n",
      "19220/19220 [==============================] - 3s 131us/step - loss: 0.1001 - accuracy: 0.9734 - val_loss: 0.4096 - val_accuracy: 0.8561\n",
      "Epoch 4/10\n",
      "19220/19220 [==============================] - 2s 129us/step - loss: 0.0864 - accuracy: 0.9743 - val_loss: 0.4042 - val_accuracy: 0.8614\n",
      "Epoch 5/10\n",
      "19220/19220 [==============================] - 4s 213us/step - loss: 0.0809 - accuracy: 0.9743 - val_loss: 0.3972 - val_accuracy: 0.8658\n",
      "Epoch 6/10\n",
      "19220/19220 [==============================] - 3s 165us/step - loss: 0.0765 - accuracy: 0.9760 - val_loss: 0.3946 - val_accuracy: 0.8676\n",
      "Epoch 7/10\n",
      "19220/19220 [==============================] - 5s 242us/step - loss: 0.0715 - accuracy: 0.9774 - val_loss: 0.3932 - val_accuracy: 0.8695\n",
      "Epoch 8/10\n",
      "19220/19220 [==============================] - 3s 152us/step - loss: 0.0697 - accuracy: 0.9784 - val_loss: 0.3870 - val_accuracy: 0.8722\n",
      "Epoch 9/10\n",
      "19220/19220 [==============================] - 3s 135us/step - loss: 0.0667 - accuracy: 0.9789 - val_loss: 0.3847 - val_accuracy: 0.8746\n",
      "Epoch 10/10\n",
      "19220/19220 [==============================] - 2s 116us/step - loss: 0.0645 - accuracy: 0.9793 - val_loss: 0.3851 - val_accuracy: 0.8750\n",
      "9562/9562 [==============================] - 1s 61us/step\n",
      "accuracy: 87.50%\n"
     ]
    }
   ],
   "source": [
    "# compile model\n",
    "model_fus_c.compile(loss=keras.losses.categorical_crossentropy,\n",
    "            optimizer=keras.optimizers.Adadelta(),\n",
    "            metrics=['accuracy'])\n",
    "\n",
    "# fit the model\n",
    "model_fus_c.fit(concat_inp_train + [x_emg_train], y_train,\n",
    "        batch_size=32,\n",
    "        epochs=10,\n",
    "        verbose=1,\n",
    "        validation_data=(concat_inp_test + [x_emg_test], y_test))\n",
    "\n",
    "# evaluate the model\n",
    "scores = model_fus_c.evaluate(concat_inp_test + [x_emg_test], y_test, verbose=1)\n",
    "print(\"%s: %.2f%%\" % (model_fus_c.metrics_names[1], scores[1]*100))"
   ]
  },
  {
   "cell_type": "code",
   "execution_count": 189,
   "metadata": {},
   "outputs": [
    {
     "name": "stdout",
     "output_type": "stream",
     "text": [
      "Model: \"model_12\"\n",
      "__________________________________________________________________________________________________\n",
      "Layer (type)                    Output Shape         Param #     Connected to                     \n",
      "==================================================================================================\n",
      "dense_77_input (InputLayer)     (None, 400)          0                                            \n",
      "__________________________________________________________________________________________________\n",
      "dense_79_input (InputLayer)     (None, 400)          0                                            \n",
      "__________________________________________________________________________________________________\n",
      "dense_81_input (InputLayer)     (None, 400)          0                                            \n",
      "__________________________________________________________________________________________________\n",
      "dense_83_input (InputLayer)     (None, 400)          0                                            \n",
      "__________________________________________________________________________________________________\n",
      "dense_77 (Dense)                (None, 210)          84210       dense_77_input[0][0]             \n",
      "__________________________________________________________________________________________________\n",
      "dense_79 (Dense)                (None, 210)          84210       dense_79_input[0][0]             \n",
      "__________________________________________________________________________________________________\n",
      "dense_81 (Dense)                (None, 210)          84210       dense_81_input[0][0]             \n",
      "__________________________________________________________________________________________________\n",
      "dense_83 (Dense)                (None, 210)          84210       dense_83_input[0][0]             \n",
      "__________________________________________________________________________________________________\n",
      "dropout_27 (Dropout)            (None, 210)          0           dense_77[0][0]                   \n",
      "__________________________________________________________________________________________________\n",
      "dropout_28 (Dropout)            (None, 210)          0           dense_79[0][0]                   \n",
      "__________________________________________________________________________________________________\n",
      "dropout_29 (Dropout)            (None, 210)          0           dense_81[0][0]                   \n",
      "__________________________________________________________________________________________________\n",
      "dropout_30 (Dropout)            (None, 210)          0           dense_83[0][0]                   \n",
      "__________________________________________________________________________________________________\n",
      "dense_78 (Dense)                (None, 5)            1055        dropout_27[0][0]                 \n",
      "__________________________________________________________________________________________________\n",
      "dense_80 (Dense)                (None, 5)            1055        dropout_28[0][0]                 \n",
      "__________________________________________________________________________________________________\n",
      "dense_82 (Dense)                (None, 5)            1055        dropout_29[0][0]                 \n",
      "__________________________________________________________________________________________________\n",
      "dense_84 (Dense)                (None, 5)            1055        dropout_30[0][0]                 \n",
      "__________________________________________________________________________________________________\n",
      "concatenate_12 (Concatenate)    (None, 20)           0           dense_78[0][0]                   \n",
      "                                                                 dense_80[0][0]                   \n",
      "                                                                 dense_82[0][0]                   \n",
      "                                                                 dense_84[0][0]                   \n",
      "__________________________________________________________________________________________________\n",
      "dense_88 (Dense)                (None, 5)            105         concatenate_12[0][0]             \n",
      "==================================================================================================\n",
      "Total params: 341,165\n",
      "Trainable params: 105\n",
      "Non-trainable params: 341,060\n",
      "__________________________________________________________________________________________________\n"
     ]
    }
   ],
   "source": [
    "single_img = Concatenate()([a.output for a in models])\n",
    "single_img = Dense(5, activation='softmax')(single_img)\n",
    "single_img = Model([a.input for a in models], single_img)\n",
    "single_img.summary()"
   ]
  },
  {
   "cell_type": "code",
   "execution_count": 190,
   "metadata": {},
   "outputs": [],
   "source": [
    "model_emg_c.save('model_emg_c.h5') \n",
    "single_img.save('model_img_c.h5') \n",
    "model_fus_c.save('model_fus_c.h5') "
   ]
  },
  {
   "cell_type": "markdown",
   "metadata": {},
   "source": [
    "# Cortex-A53 (ARMv8)"
   ]
  },
  {
   "cell_type": "code",
   "execution_count": 101,
   "metadata": {},
   "outputs": [
    {
     "data": {
      "text/plain": [
       "[<matplotlib.lines.Line2D at 0x14a22a2b0>]"
      ]
     },
     "execution_count": 101,
     "metadata": {},
     "output_type": "execute_result"
    },
    {
     "data": {
      "image/png": "[encoded data removed]",
      "text/plain": [
       "<Figure size 432x288 with 1 Axes>"
      ]
     },
     "metadata": {
      "needs_background": "light"
     },
     "output_type": "display_data"
    }
   ],
   "source": [
    "cpu_usages = np.load('/Users/enea/profile_fus_cpu_usage.npy')\n",
    "plt.plot(cpu_usages[1000:])"
   ]
  },
  {
   "cell_type": "code",
   "execution_count": 108,
   "metadata": {},
   "outputs": [
    {
     "name": "stdout",
     "output_type": "stream",
     "text": [
      "79.5909090909091\n"
     ]
    }
   ],
   "source": [
    "print(np.mean(cpu_usages[1000:][cpu_usages[1000:] > 0]))"
   ]
  },
  {
   "cell_type": "code",
   "execution_count": 107,
   "metadata": {},
   "outputs": [
    {
     "name": "stdout",
     "output_type": "stream",
     "text": [
      "[ 83.   94.2  93.8  93.8  93.8  93.8  93.6  93.5  93.5  93.5  93.6  93.6\n",
      "  93.6  93.6  93.7  92.8  94.1  93.8  93.7  93.6  93.7  93.5  93.5  93.7\n",
      "  93.7 102.9  56.6  45.   58.2  94.6  65.1  43.9  43.9  88.4  44.1  44.2\n",
      "  53.3  45.   88.5  77.1  44.3  44.2  87.8  44.2]\n"
     ]
    }
   ],
   "source": [
    "print(cpu_usages[1000:][cpu_usages[1000:] != 0])"
   ]
  },
  {
   "cell_type": "code",
   "execution_count": 111,
   "metadata": {},
   "outputs": [
    {
     "name": "stdout",
     "output_type": "stream",
     "text": [
      "Index(['model', 'feat', 'frame_len', 'test_ses', 'accuracy'], dtype='object')\n"
     ]
    }
   ],
   "source": [
    "import pandas as pd\n",
    "data = pd.read_csv('./full_results_cross_latency_v1.csv')\n",
    "\n",
    "print(data.keys())"
   ]
  },
  {
   "cell_type": "code",
   "execution_count": 119,
   "metadata": {},
   "outputs": [
    {
     "name": "stdout",
     "output_type": "stream",
     "text": [
      "                frame_len  test_ses   accuracy\n",
      "model     feat                                \n",
      "charlotte emg         0.2         2  65.363757\n",
      "          fus         0.2         2  82.117099\n",
      "          img         0.2         2  64.151708\n",
      "sumit     emg         0.2         2  68.071151\n",
      "          fus         0.2         2  95.733442\n",
      "          img         0.2         2  95.197785\n",
      "                frame_len  test_ses  accuracy\n",
      "model     feat                               \n",
      "charlotte emg         0.0       1.0  2.977906\n",
      "          fus         0.0       1.0  3.142194\n",
      "          img         0.0       1.0  5.190006\n",
      "sumit     emg         0.0       1.0  2.848121\n",
      "          fus         0.0       1.0  1.119447\n",
      "          img         0.0       1.0  1.329271\n"
     ]
    }
   ],
   "source": [
    "print(data[data['frame_len'] == 0.2].groupby(['model', 'feat']).mean())\n",
    "print(data[data['frame_len'] == 0.2].groupby(['model', 'feat']).std())"
   ]
  },
  {
   "cell_type": "code",
   "execution_count": 115,
   "metadata": {},
   "outputs": [
    {
     "data": {
      "text/plain": [
       "<matplotlib.axes._subplots.AxesSubplot at 0x14f83f320>"
      ]
     },
     "execution_count": 115,
     "metadata": {},
     "output_type": "execute_result"
    },
    {
     "data": {
      "image/png": "[encoded data removed]",
      "text/plain": [
       "<Figure size 432x288 with 1 Axes>"
      ]
     },
     "metadata": {
      "needs_background": "light"
     },
     "output_type": "display_data"
    }
   ],
   "source": [
    "import seaborn as sns\n",
    "\n",
    "sns.boxplot(data=data[data['model'] == 'sumit'], x='frame_len', y='accuracy', hue='feat')"
   ]
  },
  {
   "cell_type": "code",
   "execution_count": 117,
   "metadata": {},
   "outputs": [
    {
     "data": {
      "text/plain": [
       "<matplotlib.axes._subplots.AxesSubplot at 0x150a812b0>"
      ]
     },
     "execution_count": 117,
     "metadata": {},
     "output_type": "execute_result"
    },
    {
     "data": {
      "image/png": "[encoded data removed]",
      "text/plain": [
       "<Figure size 432x288 with 1 Axes>"
      ]
     },
     "metadata": {
      "needs_background": "light"
     },
     "output_type": "display_data"
    }
   ],
   "source": [
    "sns.boxplot(data=data[data['model'] == 'charlotte'], x='frame_len', y='accuracy', hue='feat')"
   ]
  },
  {
   "cell_type": "code",
   "execution_count": null,
   "metadata": {},
   "outputs": [],
   "source": []
  }
 ],
 "metadata": {
  "kernelspec": {
   "display_name": "dvsemg",
   "language": "python",
   "name": "dvsemg"
  },
  "language_info": {
   "codemirror_mode": {
    "name": "ipython",
    "version": 3
   },
   "file_extension": ".py",
   "mimetype": "text/x-python",
   "name": "python",
   "nbconvert_exporter": "python",
   "pygments_lexer": "ipython3",
   "version": "3.6.7"
  }
 },
 "nbformat": 4,
 "nbformat_minor": 2
}
